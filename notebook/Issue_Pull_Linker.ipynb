{
 "cells": [
  {
   "cell_type": "markdown",
   "metadata": {
    "id": "N1j9YIByspo1"
   },
   "source": [
    "# A  clustering approach using K-Mean for linkinging github issues with its PRs\n",
    "\n",
    "https://sanjayasubedi.com.np/nlp/nlp-with-python-document-clustering/\n",
    "\n"
   ]
  },
  {
   "cell_type": "markdown",
   "metadata": {
    "id": "SCg4FnAtsppd"
   },
   "source": [
    "# Clustering\n",
    "\n",
    "Distance metric: Cosine distance, using (1,3)-shingles generated via TF-IDF feature extraction. Shingles are generated in lowercase, with options to stem or not stem the tokens."
   ]
  },
  {
   "cell_type": "markdown",
   "metadata": {
    "id": "ouqgSV9mWsJi"
   },
   "source": [
    "## **NLP with Python: Text Clustering**\n",
    "https://sanjayasubedi.com.np/nlp/nlp-with-python-document-clustering/"
   ]
  },
  {
   "cell_type": "markdown",
   "metadata": {
    "id": "FaLpk-7vsppP"
   },
   "source": [
    "# Setup and Utility functions"
   ]
  },
  {
   "cell_type": "markdown",
   "metadata": {
    "id": "rI0bzrjDXHvB"
   },
   "source": [
    "import the required libraries."
   ]
  },
  {
   "cell_type": "code",
   "execution_count": null,
   "metadata": {
    "id": "uAguvMF-sppU"
   },
   "outputs": [],
   "source": [
    "!pip install nltk"
   ]
  },
  {
   "cell_type": "code",
   "execution_count": 1,
   "metadata": {
    "executionInfo": {
     "elapsed": 1047,
     "status": "ok",
     "timestamp": 1664478941012,
     "user": {
      "displayName": "Zakarea Al-Shara",
      "userId": "15877672303549748470"
     },
     "user_tz": -180
    },
    "id": "_N5_b6NGWlx8"
   },
   "outputs": [],
   "source": [
    "import pandas as pd\n",
    "import numpy as np\n",
    "from sklearn.cluster import MiniBatchKMeans\n",
    "from sklearn.feature_extraction.text import TfidfVectorizer\n",
    "from sklearn.decomposition import PCA\n",
    "import matplotlib.pyplot as plt\n",
    "from sklearn.datasets import load_files\n",
    "from sklearn.metrics import homogeneity_score\n",
    "from sklearn.metrics import completeness_score\n",
    "from sklearn.metrics import v_measure_score"
   ]
  },
  {
   "cell_type": "markdown",
   "metadata": {
    "id": "x0Rwcl39sppb"
   },
   "source": [
    "# Loading Dataset\n",
    "\n",
    "We load data on the selected portion of the dataset."
   ]
  },
  {
   "cell_type": "code",
   "execution_count": 3,
   "metadata": {
    "colab": {
     "base_uri": "https://localhost:8080/",
     "height": 204
    },
    "executionInfo": {
     "elapsed": 1983,
     "status": "ok",
     "timestamp": 1664478460905,
     "user": {
      "displayName": "Zakarea Al-Shara",
      "userId": "15877672303549748470"
     },
     "user_tz": -180
    },
    "id": "CHXiv-xbXMDh",
    "outputId": "618b8eb0-cdd8-44df-f128-671d5d52126d"
   },
   "outputs": [
    {
     "data": {
      "text/html": [
       "<div>\n",
       "<style scoped>\n",
       "    .dataframe tbody tr th:only-of-type {\n",
       "        vertical-align: middle;\n",
       "    }\n",
       "\n",
       "    .dataframe tbody tr th {\n",
       "        vertical-align: top;\n",
       "    }\n",
       "\n",
       "    .dataframe thead th {\n",
       "        text-align: right;\n",
       "    }\n",
       "</style>\n",
       "<table border=\"1\" class=\"dataframe\">\n",
       "  <thead>\n",
       "    <tr style=\"text-align: right;\">\n",
       "      <th></th>\n",
       "      <th>cluster</th>\n",
       "      <th>title</th>\n",
       "    </tr>\n",
       "  </thead>\n",
       "  <tbody>\n",
       "    <tr>\n",
       "      <th>0</th>\n",
       "      <td>0</td>\n",
       "      <td>['app', 'crash', 'sometim', 'serviceactionrest...</td>\n",
       "    </tr>\n",
       "    <tr>\n",
       "      <th>1</th>\n",
       "      <td>0</td>\n",
       "      <td>['mnfeatureservic', 'notif']</td>\n",
       "    </tr>\n",
       "    <tr>\n",
       "      <th>2</th>\n",
       "      <td>0</td>\n",
       "      <td>['delist', 'unsupport', 'event', 'torcontrolco...</td>\n",
       "    </tr>\n",
       "    <tr>\n",
       "      <th>3</th>\n",
       "      <td>1</td>\n",
       "      <td>['app', 'crash', 'sometim', 'serviceactionrest...</td>\n",
       "    </tr>\n",
       "    <tr>\n",
       "      <th>4</th>\n",
       "      <td>1</td>\n",
       "      <td>['mnfeatureservic', 'notif']</td>\n",
       "    </tr>\n",
       "  </tbody>\n",
       "</table>\n",
       "</div>"
      ],
      "text/plain": [
       "   cluster                                              title\n",
       "0        0  ['app', 'crash', 'sometim', 'serviceactionrest...\n",
       "1        0                       ['mnfeatureservic', 'notif']\n",
       "2        0  ['delist', 'unsupport', 'event', 'torcontrolco...\n",
       "3        1  ['app', 'crash', 'sometim', 'serviceactionrest...\n",
       "4        1                       ['mnfeatureservic', 'notif']"
      ]
     },
     "execution_count": 3,
     "metadata": {},
     "output_type": "execute_result"
    }
   ],
   "source": [
    "# for reproducibility\n",
    "random_state = 0 \n",
    "\n",
    "\n",
    "df = pd.read_csv('C:/Users/zmalshara/PycharmProjects/pythonProject/data/android_closed_issues_2011-01-01_2021-01-01_all_clean_issues.csv')\n",
    "df2 = df[['cluster','title']]\n",
    "# df2.iloc[:1000, :1000]\n",
    "\n",
    "df2.head()"
   ]
  },
  {
   "cell_type": "markdown",
   "metadata": {
    "id": "qnmwT4dWXMf4"
   },
   "source": [
    "Feature extraction"
   ]
  },
  {
   "cell_type": "code",
   "execution_count": 5,
   "metadata": {
    "executionInfo": {
     "elapsed": 1919,
     "status": "ok",
     "timestamp": 1664478465036,
     "user": {
      "displayName": "Zakarea Al-Shara",
      "userId": "15877672303549748470"
     },
     "user_tz": -180
    },
    "id": "seaRHpMPXMoo"
   },
   "outputs": [],
   "source": [
    "vec = TfidfVectorizer(stop_words=\"english\")\n",
    "\n",
    "vec.fit(df2.title.values)\n",
    "features = vec.transform(df2.title.values)\n",
    "# 34731"
   ]
  },
  {
   "cell_type": "markdown",
   "metadata": {
    "id": "EXwrM-UTcmma"
   },
   "source": [
    "## Model training"
   ]
  },
  {
   "cell_type": "code",
   "execution_count": 23,
   "metadata": {
    "id": "0JIdx9kOcn24"
   },
   "outputs": [
    {
     "ename": "MemoryError",
     "evalue": "Unable to allocate 23.4 GiB for an array with shape (90464, 34731) and data type float64",
     "output_type": "error",
     "traceback": [
      "\u001b[1;31m---------------------------------------------------------------------------\u001b[0m",
      "\u001b[1;31mMemoryError\u001b[0m                               Traceback (most recent call last)",
      "\u001b[1;32m<ipython-input-23-c94511082242>\u001b[0m in \u001b[0;36m<module>\u001b[1;34m\u001b[0m\n\u001b[0;32m      2\u001b[0m \u001b[0mcls\u001b[0m \u001b[1;33m=\u001b[0m \u001b[0mKMeans\u001b[0m\u001b[1;33m(\u001b[0m\u001b[0mn_clusters\u001b[0m\u001b[1;33m=\u001b[0m\u001b[1;36m34731\u001b[0m\u001b[1;33m,\u001b[0m \u001b[0mrandom_state\u001b[0m\u001b[1;33m=\u001b[0m\u001b[0mrandom_state\u001b[0m\u001b[1;33m)\u001b[0m\u001b[1;33m\u001b[0m\u001b[1;33m\u001b[0m\u001b[0m\n\u001b[0;32m      3\u001b[0m \u001b[1;31m# cls = MiniBatchKMeans(n_clusters=34731, random_state=random_state)\u001b[0m\u001b[1;33m\u001b[0m\u001b[1;33m\u001b[0m\u001b[1;33m\u001b[0m\u001b[0m\n\u001b[1;32m----> 4\u001b[1;33m \u001b[0mcls\u001b[0m\u001b[1;33m.\u001b[0m\u001b[0mfit\u001b[0m\u001b[1;33m(\u001b[0m\u001b[0mfeatures\u001b[0m\u001b[1;33m)\u001b[0m\u001b[1;33m\u001b[0m\u001b[1;33m\u001b[0m\u001b[0m\n\u001b[0m",
      "\u001b[1;32mc:\\users\\zmalshara\\appdata\\local\\programs\\python\\python39\\lib\\site-packages\\sklearn\\cluster\\_kmeans.py\u001b[0m in \u001b[0;36mfit\u001b[1;34m(self, X, y, sample_weight)\u001b[0m\n\u001b[0;32m   1021\u001b[0m \u001b[1;33m\u001b[0m\u001b[0m\n\u001b[0;32m   1022\u001b[0m             \u001b[1;31m# run a k-means once\u001b[0m\u001b[1;33m\u001b[0m\u001b[1;33m\u001b[0m\u001b[1;33m\u001b[0m\u001b[0m\n\u001b[1;32m-> 1023\u001b[1;33m             labels, inertia, centers, n_iter_ = kmeans_single(\n\u001b[0m\u001b[0;32m   1024\u001b[0m                 \u001b[0mX\u001b[0m\u001b[1;33m,\u001b[0m \u001b[0msample_weight\u001b[0m\u001b[1;33m,\u001b[0m \u001b[0mcenters_init\u001b[0m\u001b[1;33m,\u001b[0m \u001b[0mmax_iter\u001b[0m\u001b[1;33m=\u001b[0m\u001b[0mself\u001b[0m\u001b[1;33m.\u001b[0m\u001b[0mmax_iter\u001b[0m\u001b[1;33m,\u001b[0m\u001b[1;33m\u001b[0m\u001b[1;33m\u001b[0m\u001b[0m\n\u001b[0;32m   1025\u001b[0m                 \u001b[0mverbose\u001b[0m\u001b[1;33m=\u001b[0m\u001b[0mself\u001b[0m\u001b[1;33m.\u001b[0m\u001b[0mverbose\u001b[0m\u001b[1;33m,\u001b[0m \u001b[0mtol\u001b[0m\u001b[1;33m=\u001b[0m\u001b[0mself\u001b[0m\u001b[1;33m.\u001b[0m\u001b[0m_tol\u001b[0m\u001b[1;33m,\u001b[0m\u001b[1;33m\u001b[0m\u001b[1;33m\u001b[0m\u001b[0m\n",
      "\u001b[1;32mc:\\users\\zmalshara\\appdata\\local\\programs\\python\\python39\\lib\\site-packages\\sklearn\\cluster\\_kmeans.py\u001b[0m in \u001b[0;36m_kmeans_single_elkan\u001b[1;34m(X, sample_weight, centers_init, max_iter, verbose, x_squared_norms, tol, n_threads)\u001b[0m\n\u001b[0;32m    365\u001b[0m                                         kth=1, axis=0)[1]\n\u001b[0;32m    366\u001b[0m     \u001b[0mupper_bounds\u001b[0m \u001b[1;33m=\u001b[0m \u001b[0mnp\u001b[0m\u001b[1;33m.\u001b[0m\u001b[0mzeros\u001b[0m\u001b[1;33m(\u001b[0m\u001b[0mn_samples\u001b[0m\u001b[1;33m,\u001b[0m \u001b[0mdtype\u001b[0m\u001b[1;33m=\u001b[0m\u001b[0mX\u001b[0m\u001b[1;33m.\u001b[0m\u001b[0mdtype\u001b[0m\u001b[1;33m)\u001b[0m\u001b[1;33m\u001b[0m\u001b[1;33m\u001b[0m\u001b[0m\n\u001b[1;32m--> 367\u001b[1;33m     \u001b[0mlower_bounds\u001b[0m \u001b[1;33m=\u001b[0m \u001b[0mnp\u001b[0m\u001b[1;33m.\u001b[0m\u001b[0mzeros\u001b[0m\u001b[1;33m(\u001b[0m\u001b[1;33m(\u001b[0m\u001b[0mn_samples\u001b[0m\u001b[1;33m,\u001b[0m \u001b[0mn_clusters\u001b[0m\u001b[1;33m)\u001b[0m\u001b[1;33m,\u001b[0m \u001b[0mdtype\u001b[0m\u001b[1;33m=\u001b[0m\u001b[0mX\u001b[0m\u001b[1;33m.\u001b[0m\u001b[0mdtype\u001b[0m\u001b[1;33m)\u001b[0m\u001b[1;33m\u001b[0m\u001b[1;33m\u001b[0m\u001b[0m\n\u001b[0m\u001b[0;32m    368\u001b[0m     \u001b[0mcenter_shift\u001b[0m \u001b[1;33m=\u001b[0m \u001b[0mnp\u001b[0m\u001b[1;33m.\u001b[0m\u001b[0mzeros\u001b[0m\u001b[1;33m(\u001b[0m\u001b[0mn_clusters\u001b[0m\u001b[1;33m,\u001b[0m \u001b[0mdtype\u001b[0m\u001b[1;33m=\u001b[0m\u001b[0mX\u001b[0m\u001b[1;33m.\u001b[0m\u001b[0mdtype\u001b[0m\u001b[1;33m)\u001b[0m\u001b[1;33m\u001b[0m\u001b[1;33m\u001b[0m\u001b[0m\n\u001b[0;32m    369\u001b[0m \u001b[1;33m\u001b[0m\u001b[0m\n",
      "\u001b[1;31mMemoryError\u001b[0m: Unable to allocate 23.4 GiB for an array with shape (90464, 34731) and data type float64"
     ]
    }
   ],
   "source": [
    "from sklearn.cluster import KMeans\n",
    "# cls = KMeans(n_clusters=34731, random_state=random_state)\n",
    "cls = MiniBatchKMeans(n_clusters=34731, random_state=random_state)\n",
    "cls.fit(features)"
   ]
  },
  {
   "cell_type": "markdown",
   "metadata": {
    "id": "9iFCWcszc2N5"
   },
   "source": [
    "predict the clusters"
   ]
  },
  {
   "cell_type": "code",
   "execution_count": 7,
   "metadata": {
    "colab": {
     "base_uri": "https://localhost:8080/"
    },
    "executionInfo": {
     "elapsed": 40922,
     "status": "ok",
     "timestamp": 1664477286812,
     "user": {
      "displayName": "Zakarea Al-Shara",
      "userId": "15877672303549748470"
     },
     "user_tz": -180
    },
    "id": "o643qgy1c3B4",
    "outputId": "32df1994-f416-492e-8704-913af414cbb5"
   },
   "outputs": [
    {
     "data": {
      "text/plain": [
       "array([11658, 15939, 11410, ..., 27534, 32147,   735])"
      ]
     },
     "execution_count": 7,
     "metadata": {},
     "output_type": "execute_result"
    }
   ],
   "source": [
    "# predict cluster labels for new dataset\n",
    "cls.predict(features)\n",
    "\n",
    "# to get cluster labels for the dataset used while\n",
    "# training the model (used for models that does not\n",
    "# support prediction on new dataset).\n",
    "cls.labels_\n",
    "# cls.counts_"
   ]
  },
  {
   "cell_type": "markdown",
   "metadata": {
    "id": "6co0cy2Zdauf"
   },
   "source": [
    "## Visualization"
   ]
  },
  {
   "cell_type": "code",
   "execution_count": null,
   "metadata": {
    "id": "3-cC6LJidbG2"
   },
   "outputs": [],
   "source": [
    "# # reduce the features to 2D\n",
    "# pca = PCA(n_components=2, random_state=random_state)\n",
    "# reduced_features = pca.fit_transform(features.toarray())\n",
    "\n",
    "# # reduce the cluster centers to 2D\n",
    "# reduced_cluster_centers = pca.transform(cls.cluster_centers_)"
   ]
  },
  {
   "cell_type": "markdown",
   "metadata": {
    "id": "6ewrN42QgtGU"
   },
   "source": [
    "## Evaluation\n",
    "\n",
    "### 1. Homogeneity metric\n",
    "Homogeneity metric of a cluster labeling given a ground truth.\n",
    "A clustering result satisfies homogeneity if all of its clusters contain only data points which are members of a single class.\n",
    "This metric is independent of the absolute values of the labels: a permutation of the class or cluster label values won’t change the score value in any way.\n",
    "\n",
    "### 2. Compute completeness\n",
    "Compute completeness metric of a cluster labeling given a ground truth.\n",
    "A clustering result satisfies completeness if all the data points that are members of a given class are elements of the same cluster.\n",
    "This metric is independent of the absolute values of the labels: a permutation of the class or cluster label values won’t change the score value in any way.\n",
    "\n",
    "### 3. V-measure cluster\n",
    "V-measure cluster labeling given a ground truth.\n",
    "The V-measure is the harmonic mean between homogeneity and completeness:"
   ]
  },
  {
   "cell_type": "code",
   "execution_count": 10,
   "metadata": {},
   "outputs": [],
   "source": [
    "def bench_k_means(estimator, name):\n",
    "#     estimator.fit(data)\n",
    "    # A short explanation for every score:\n",
    "    # homogeneity:          each cluster contains only members of a single class (range 0 - 1)\n",
    "    # completeness:         all members of a given class are assigned to the same cluster (range 0 - 1)\n",
    "    # v_measure:            harmonic mean of homogeneity and completeness\n",
    "\n",
    "    print('%-9s \\t%i \\thomogeneity: %.3f \\tcompleteness: %.3f \\tv-measure: %.3f'\n",
    "          % (name, estimator.inertia_,\n",
    "             metrics.homogeneity_score(y, estimator.labels_),\n",
    "             metrics.completeness_score(y, estimator.labels_),\n",
    "             metrics.v_measure_score(y, estimator.labels_)\n",
    "            )) "
   ]
  },
  {
   "cell_type": "code",
   "execution_count": 11,
   "metadata": {
    "scrolled": true
   },
   "outputs": [
    {
     "ename": "AttributeError",
     "evalue": "'Series' object has no attribute 'inertia_'",
     "output_type": "error",
     "traceback": [
      "\u001b[1;31m---------------------------------------------------------------------------\u001b[0m",
      "\u001b[1;31mAttributeError\u001b[0m                            Traceback (most recent call last)",
      "\u001b[1;32m<ipython-input-11-c74995c3c475>\u001b[0m in \u001b[0;36m<module>\u001b[1;34m\u001b[0m\n\u001b[1;32m----> 1\u001b[1;33m \u001b[0mbench_k_means\u001b[0m\u001b[1;33m(\u001b[0m\u001b[0mdf2\u001b[0m\u001b[1;33m.\u001b[0m\u001b[0mcluster\u001b[0m\u001b[1;33m,\u001b[0m \u001b[0mcls\u001b[0m\u001b[1;33m.\u001b[0m\u001b[0mpredict\u001b[0m\u001b[1;33m(\u001b[0m\u001b[0mfeatures\u001b[0m\u001b[1;33m)\u001b[0m\u001b[1;33m)\u001b[0m\u001b[1;33m\u001b[0m\u001b[1;33m\u001b[0m\u001b[0m\n\u001b[0m",
      "\u001b[1;32m<ipython-input-10-2c82fc535367>\u001b[0m in \u001b[0;36mbench_k_means\u001b[1;34m(estimator, name)\u001b[0m\n\u001b[0;32m     17\u001b[0m     print('%-9s \\t%i \\thomogeneity: %.3f \\tcompleteness: %.3f \\tv-measure: %.3f \\tadjusted-rand: %.3f \\t'\n\u001b[0;32m     18\u001b[0m           \u001b[1;34m'adjusted-mutual-info: %.3f \\tsilhouette: %.3f'\u001b[0m\u001b[1;33m\u001b[0m\u001b[1;33m\u001b[0m\u001b[0m\n\u001b[1;32m---> 19\u001b[1;33m           % (name, estimator.inertia_,\n\u001b[0m\u001b[0;32m     20\u001b[0m              \u001b[0mmetrics\u001b[0m\u001b[1;33m.\u001b[0m\u001b[0mhomogeneity_score\u001b[0m\u001b[1;33m(\u001b[0m\u001b[0my\u001b[0m\u001b[1;33m,\u001b[0m \u001b[0mestimator\u001b[0m\u001b[1;33m.\u001b[0m\u001b[0mlabels_\u001b[0m\u001b[1;33m)\u001b[0m\u001b[1;33m,\u001b[0m\u001b[1;33m\u001b[0m\u001b[1;33m\u001b[0m\u001b[0m\n\u001b[0;32m     21\u001b[0m              \u001b[0mmetrics\u001b[0m\u001b[1;33m.\u001b[0m\u001b[0mcompleteness_score\u001b[0m\u001b[1;33m(\u001b[0m\u001b[0my\u001b[0m\u001b[1;33m,\u001b[0m \u001b[0mestimator\u001b[0m\u001b[1;33m.\u001b[0m\u001b[0mlabels_\u001b[0m\u001b[1;33m)\u001b[0m\u001b[1;33m,\u001b[0m\u001b[1;33m\u001b[0m\u001b[1;33m\u001b[0m\u001b[0m\n",
      "\u001b[1;32mc:\\users\\zmalshara\\appdata\\local\\programs\\python\\python39\\lib\\site-packages\\pandas\\core\\generic.py\u001b[0m in \u001b[0;36m__getattr__\u001b[1;34m(self, name)\u001b[0m\n\u001b[0;32m   5463\u001b[0m             \u001b[1;32mif\u001b[0m \u001b[0mself\u001b[0m\u001b[1;33m.\u001b[0m\u001b[0m_info_axis\u001b[0m\u001b[1;33m.\u001b[0m\u001b[0m_can_hold_identifiers_and_holds_name\u001b[0m\u001b[1;33m(\u001b[0m\u001b[0mname\u001b[0m\u001b[1;33m)\u001b[0m\u001b[1;33m:\u001b[0m\u001b[1;33m\u001b[0m\u001b[1;33m\u001b[0m\u001b[0m\n\u001b[0;32m   5464\u001b[0m                 \u001b[1;32mreturn\u001b[0m \u001b[0mself\u001b[0m\u001b[1;33m[\u001b[0m\u001b[0mname\u001b[0m\u001b[1;33m]\u001b[0m\u001b[1;33m\u001b[0m\u001b[1;33m\u001b[0m\u001b[0m\n\u001b[1;32m-> 5465\u001b[1;33m             \u001b[1;32mreturn\u001b[0m \u001b[0mobject\u001b[0m\u001b[1;33m.\u001b[0m\u001b[0m__getattribute__\u001b[0m\u001b[1;33m(\u001b[0m\u001b[0mself\u001b[0m\u001b[1;33m,\u001b[0m \u001b[0mname\u001b[0m\u001b[1;33m)\u001b[0m\u001b[1;33m\u001b[0m\u001b[1;33m\u001b[0m\u001b[0m\n\u001b[0m\u001b[0;32m   5466\u001b[0m \u001b[1;33m\u001b[0m\u001b[0m\n\u001b[0;32m   5467\u001b[0m     \u001b[1;32mdef\u001b[0m \u001b[0m__setattr__\u001b[0m\u001b[1;33m(\u001b[0m\u001b[0mself\u001b[0m\u001b[1;33m,\u001b[0m \u001b[0mname\u001b[0m\u001b[1;33m:\u001b[0m \u001b[0mstr\u001b[0m\u001b[1;33m,\u001b[0m \u001b[0mvalue\u001b[0m\u001b[1;33m)\u001b[0m \u001b[1;33m->\u001b[0m \u001b[1;32mNone\u001b[0m\u001b[1;33m:\u001b[0m\u001b[1;33m\u001b[0m\u001b[1;33m\u001b[0m\u001b[0m\n",
      "\u001b[1;31mAttributeError\u001b[0m: 'Series' object has no attribute 'inertia_'"
     ]
    }
   ],
   "source": [
    "bench_k_means(df2.cluster, cls.predict(features))"
   ]
  },
  {
   "cell_type": "code",
   "execution_count": 12,
   "metadata": {
    "colab": {
     "base_uri": "https://localhost:8080/"
    },
    "executionInfo": {
     "elapsed": 36073,
     "status": "ok",
     "timestamp": 1664477331662,
     "user": {
      "displayName": "Zakarea Al-Shara",
      "userId": "15877672303549748470"
     },
     "user_tz": -180
    },
    "id": "NVCaF6UigyEc",
    "outputId": "a48a12f6-52b0-4f70-9686-35b25f2f0d8b"
   },
   "outputs": [
    {
     "name": "stdout",
     "output_type": "stream",
     "text": [
      "0.9129148607210261\n",
      "0.8950552662665614\n"
     ]
    }
   ],
   "source": [
    "# Homogeneity, completeness and V-measure\n",
    "# https://scikit-learn.org/stable/modules/clustering.html#homogeneity-completeness\n",
    "\n",
    "print(homogeneity_score(df2.cluster, cls.predict(features)))\n",
    "print(completeness_score(df2.cluster, cls.predict(features)))\n",
    "print(v_measure_score(df2.cluster, cls.predict(features)))\n",
    "\n",
    "# Results\n",
    "# 0.8950552662665614\n",
    "# 0.9129148607210261\n",
    "# 0.8950552662665614"
   ]
  }
 ],
 "metadata": {
  "colab": {
   "collapsed_sections": [],
   "provenance": []
  },
  "kernelspec": {
   "display_name": "Python 3",
   "language": "python",
   "name": "python3"
  },
  "language_info": {
   "codemirror_mode": {
    "name": "ipython",
    "version": 3
   },
   "file_extension": ".py",
   "mimetype": "text/x-python",
   "name": "python",
   "nbconvert_exporter": "python",
   "pygments_lexer": "ipython3",
   "version": "3.9.0"
  }
 },
 "nbformat": 4,
 "nbformat_minor": 1
}
